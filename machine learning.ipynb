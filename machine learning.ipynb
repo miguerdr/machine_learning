{
 "cells": [
  {
   "cell_type": "markdown",
   "id": "c616a9c4",
   "metadata": {},
   "source": [
    "## Abre y examina el archivo de datos."
   ]
  },
  {
   "cell_type": "code",
   "execution_count": 12,
   "id": "0ae31a49",
   "metadata": {},
   "outputs": [],
   "source": [
    "#Importar bibliotecas \n",
    "import numpy as np\n",
    "import pandas as pd\n",
    "from sklearn.model_selection import train_test_split  \n",
    "from sklearn.metrics import mean_squared_error\n",
    "from sklearn.metrics import accuracy_score  \n",
    "from sklearn.dummy import DummyClassifier"
   ]
  },
  {
   "cell_type": "code",
   "execution_count": 13,
   "id": "ae0a1dee",
   "metadata": {},
   "outputs": [],
   "source": [
    "# Carga el archivo de datos en un DataFrame\n",
    "try:\n",
    "    df = pd.read_csv('users_behavior.csv')\n",
    "except: \n",
    "    df = pd.read_csv('/datasets/users_behavior.csv')"
   ]
  },
  {
   "cell_type": "code",
   "execution_count": 14,
   "id": "cd4d73d2",
   "metadata": {
    "scrolled": true
   },
   "outputs": [
    {
     "name": "stdout",
     "output_type": "stream",
     "text": [
      "<class 'pandas.core.frame.DataFrame'>\n",
      "RangeIndex: 3214 entries, 0 to 3213\n",
      "Data columns (total 5 columns):\n",
      " #   Column    Non-Null Count  Dtype  \n",
      "---  ------    --------------  -----  \n",
      " 0   calls     3214 non-null   float64\n",
      " 1   minutes   3214 non-null   float64\n",
      " 2   messages  3214 non-null   float64\n",
      " 3   mb_used   3214 non-null   float64\n",
      " 4   is_ultra  3214 non-null   int64  \n",
      "dtypes: float64(4), int64(1)\n",
      "memory usage: 125.7 KB\n"
     ]
    },
    {
     "data": {
      "text/html": [
       "<div>\n",
       "<style scoped>\n",
       "    .dataframe tbody tr th:only-of-type {\n",
       "        vertical-align: middle;\n",
       "    }\n",
       "\n",
       "    .dataframe tbody tr th {\n",
       "        vertical-align: top;\n",
       "    }\n",
       "\n",
       "    .dataframe thead th {\n",
       "        text-align: right;\n",
       "    }\n",
       "</style>\n",
       "<table border=\"1\" class=\"dataframe\">\n",
       "  <thead>\n",
       "    <tr style=\"text-align: right;\">\n",
       "      <th></th>\n",
       "      <th>calls</th>\n",
       "      <th>minutes</th>\n",
       "      <th>messages</th>\n",
       "      <th>mb_used</th>\n",
       "      <th>is_ultra</th>\n",
       "    </tr>\n",
       "  </thead>\n",
       "  <tbody>\n",
       "    <tr>\n",
       "      <th>0</th>\n",
       "      <td>40.0</td>\n",
       "      <td>311.90</td>\n",
       "      <td>83.0</td>\n",
       "      <td>19915.42</td>\n",
       "      <td>0</td>\n",
       "    </tr>\n",
       "    <tr>\n",
       "      <th>1</th>\n",
       "      <td>85.0</td>\n",
       "      <td>516.75</td>\n",
       "      <td>56.0</td>\n",
       "      <td>22696.96</td>\n",
       "      <td>0</td>\n",
       "    </tr>\n",
       "    <tr>\n",
       "      <th>2</th>\n",
       "      <td>77.0</td>\n",
       "      <td>467.66</td>\n",
       "      <td>86.0</td>\n",
       "      <td>21060.45</td>\n",
       "      <td>0</td>\n",
       "    </tr>\n",
       "    <tr>\n",
       "      <th>3</th>\n",
       "      <td>106.0</td>\n",
       "      <td>745.53</td>\n",
       "      <td>81.0</td>\n",
       "      <td>8437.39</td>\n",
       "      <td>1</td>\n",
       "    </tr>\n",
       "    <tr>\n",
       "      <th>4</th>\n",
       "      <td>66.0</td>\n",
       "      <td>418.74</td>\n",
       "      <td>1.0</td>\n",
       "      <td>14502.75</td>\n",
       "      <td>0</td>\n",
       "    </tr>\n",
       "  </tbody>\n",
       "</table>\n",
       "</div>"
      ],
      "text/plain": [
       "   calls  minutes  messages   mb_used  is_ultra\n",
       "0   40.0   311.90      83.0  19915.42         0\n",
       "1   85.0   516.75      56.0  22696.96         0\n",
       "2   77.0   467.66      86.0  21060.45         0\n",
       "3  106.0   745.53      81.0   8437.39         1\n",
       "4   66.0   418.74       1.0  14502.75         0"
      ]
     },
     "execution_count": 14,
     "metadata": {},
     "output_type": "execute_result"
    }
   ],
   "source": [
    "df.info()\n",
    "df.head()"
   ]
  },
  {
   "cell_type": "markdown",
   "id": "751bd83f",
   "metadata": {},
   "source": [
    "No hay datos ausentes, el objetivo de los datos es la columna is_ultra y las columnas carateristicas son todas menos is_ultra"
   ]
  },
  {
   "cell_type": "markdown",
   "id": "987753b0",
   "metadata": {},
   "source": [
    "## Segmentar los datos"
   ]
  },
  {
   "cell_type": "code",
   "execution_count": 15,
   "id": "6b6832d3",
   "metadata": {},
   "outputs": [],
   "source": [
    "#Seleccionamos las columnas de objetivo y las caracteristicas \n",
    "features = df.drop('is_ultra', axis = 1)\n",
    "target = df['is_ultra']"
   ]
  },
  {
   "cell_type": "code",
   "execution_count": 16,
   "id": "ee0c5754",
   "metadata": {},
   "outputs": [],
   "source": [
    "#Segmentamos los datos en 3:1:1\n",
    "#Segmentamos los datos para entrenamiento \n",
    "features_train, features_valid, target_train, target_valid = train_test_split(features, target, test_size=0.40, random_state=12345)"
   ]
  },
  {
   "cell_type": "code",
   "execution_count": 17,
   "id": "06075841",
   "metadata": {},
   "outputs": [],
   "source": [
    "#Segmentamos los datos para validación y prueba\n",
    "features_valid, features_test, target_valid, target_test = train_test_split(features_valid, target_valid, test_size=0.50, random_state=12345)"
   ]
  },
  {
   "cell_type": "code",
   "execution_count": 18,
   "id": "ee24175e",
   "metadata": {},
   "outputs": [
    {
     "name": "stdout",
     "output_type": "stream",
     "text": [
      "(1928, 4)\n",
      "(1928,)\n",
      "(643, 4)\n",
      "(643,)\n",
      "(643, 4)\n",
      "(643,)\n"
     ]
    }
   ],
   "source": [
    "#Comprobamos la distribucón \n",
    "print(features_train.shape)\n",
    "print(target_train.shape)\n",
    "print(features_valid.shape)\n",
    "print(target_valid.shape)\n",
    "print(features_test.shape)\n",
    "print(target_test.shape)"
   ]
  },
  {
   "cell_type": "markdown",
   "id": "6213c006",
   "metadata": {},
   "source": [
    "Segmentamos los datos en 3:1:1, eso quiere decir 60% para entrenamiento, 20% para validación y 20% para el modelo de prueba"
   ]
  },
  {
   "cell_type": "markdown",
   "id": "9e3250b1",
   "metadata": {},
   "source": [
    "## Investiga la calidad de diferentes modelos cambiando los hiperparámetros. Describe brevemente los hallazgos del estudio."
   ]
  },
  {
   "cell_type": "markdown",
   "id": "01d24cd9",
   "metadata": {},
   "source": [
    "Utilisaremos un modelo de clasificación, ya que el modelo solo tiene que predecir entre 0 y 1 "
   ]
  },
  {
   "cell_type": "markdown",
   "id": "114298b9",
   "metadata": {},
   "source": [
    "+ Probaremos el modelo con los datos de prueba "
   ]
  },
  {
   "cell_type": "markdown",
   "id": "9f7f7709",
   "metadata": {},
   "source": [
    "### Decision Tree Classifier"
   ]
  },
  {
   "cell_type": "code",
   "execution_count": 19,
   "id": "b4d5dd78",
   "metadata": {
    "scrolled": true
   },
   "outputs": [
    {
     "name": "stdout",
     "output_type": "stream",
     "text": [
      "max_depth = 1 : 0.7542768273716952\n",
      "max_depth = 2 : 0.7822706065318819\n",
      "max_depth = 3 : 0.7853810264385692\n",
      "max_depth = 4 : 0.7791601866251944\n",
      "max_depth = 5 : 0.7791601866251944\n"
     ]
    }
   ],
   "source": [
    "from sklearn.tree import DecisionTreeClassifier   \n",
    "# < crea un bucle para max_depth de 1 a 5 > \n",
    "for depth_dtc in range(1, 6): \n",
    "# < crea un modelo, especificar max_depth=depth >     \n",
    "        model_dtc = DecisionTreeClassifier(random_state=12345, max_depth=depth_dtc) \n",
    "# < entrena el modelo >     \n",
    "        model_dtc.fit(features_train, target_train) \n",
    "# < encuentra las predicciones usando el conjunto de validación > \n",
    "        predictions_dtc = model_dtc.predict(features_valid) \n",
    "     \n",
    "        print(\"max_depth =\", depth_dtc, \": \", end='') \n",
    "        print(accuracy_score(target_valid, predictions_dtc))"
   ]
  },
  {
   "cell_type": "markdown",
   "id": "919e4101",
   "metadata": {},
   "source": [
    "Se entrena el modelo con Decision Tree Classifier y tenemos una exactitud de 78.5% con una profundidad de arbol de 3"
   ]
  },
  {
   "cell_type": "markdown",
   "id": "421bae4a",
   "metadata": {},
   "source": [
    "### Random Forest Classifier"
   ]
  },
  {
   "cell_type": "code",
   "execution_count": 20,
   "id": "48bfb90f",
   "metadata": {
    "scrolled": true
   },
   "outputs": [
    {
     "name": "stdout",
     "output_type": "stream",
     "text": [
      "Exactitud del mejor modelo en el conjunto de validación (n_estimators = 8): 0.7744945567651633\n"
     ]
    }
   ],
   "source": [
    "from sklearn.ensemble import RandomForestClassifier  \n",
    "best_score_rfr = 0 \n",
    "best_est_rfr = 0 \n",
    "# selecciona el rango del hiperparámetro \n",
    "for est_rfr in range(1, 10):  \n",
    "# configura el número de árboles \n",
    "    model_rfr = RandomForestClassifier(random_state=54321, n_estimators=est_rfr)  \n",
    "# entrena el modelo en el conjunto de entrenamiento \n",
    "    model_rfr.fit(features_train, target_train) \n",
    "# calcula la puntuación de exactitud en el conjunto de validación     \n",
    "    score_rfr = model_rfr.score(features_valid, target_valid)  \n",
    "    if score_rfr > best_score_rfr: \n",
    "        best_score_rfr = score_rfr # guarda la mejor puntuación de exactitud en el conjunto de validación \n",
    "        best_est_rfr = est_rfr #guarda el número de estimadores que corresponden a la mejor puntuación de exactitud \n",
    "        \n",
    "print(\"Exactitud del mejor modelo en el conjunto de validación (n_estimators = {}): {}\".format(best_est_rfr, best_score_rfr))"
   ]
  },
  {
   "cell_type": "markdown",
   "id": "234029ce",
   "metadata": {},
   "source": [
    "Se entrena el modelo con Random Forest Classifier y tenemos una exactitud de 77.9% con un numero de estimaciones de 50"
   ]
  },
  {
   "cell_type": "markdown",
   "id": "0039a1e1",
   "metadata": {},
   "source": [
    "Podemos observar que de los dos modelos de clasificación, con el que mayor exactitud obtuvimos fue el de Decision Tree Classifier, con el que trabajaremos"
   ]
  },
  {
   "cell_type": "markdown",
   "id": "51228779",
   "metadata": {},
   "source": [
    "## Comprueba la calidad del modelo usando el conjunto de prueba"
   ]
  },
  {
   "cell_type": "code",
   "execution_count": 21,
   "id": "e9df18cd",
   "metadata": {},
   "outputs": [
    {
     "name": "stdout",
     "output_type": "stream",
     "text": [
      "Exactitud: 0.7791601866251944\n"
     ]
    }
   ],
   "source": [
    "# Creamos el modelo final \n",
    "model_final = DecisionTreeClassifier(random_state=12345, max_depth=3)  \n",
    "#Entrenamos el modelo \n",
    "model_final.fit(features_train, target_train) \n",
    "\n",
    "test_predictions = model_final.predict(features_test) \n",
    "def accuracy(answers, predictions):  \n",
    "    correct = 0  \n",
    "    for i in range(len(answers)):  \n",
    "        if predictions[i] == answers[i]:  \n",
    "            correct = correct +1  \n",
    "    return correct / len(answers)  \n",
    "print('Exactitud:', accuracy(target_test.values, test_predictions))"
   ]
  },
  {
   "cell_type": "markdown",
   "id": "52517c85",
   "metadata": {},
   "source": [
    "Nuestro modelo tiene una exactitud del 78% de exactitud, con una profundidad de 3, esto quier decir que 8 de cada 10 estan correctas, de igual manera cabe de observar que con el modelo de prueba la exactitud bajo de 78.5% a 77.9%"
   ]
  },
  {
   "cell_type": "markdown",
   "id": "a4ceeb49",
   "metadata": {},
   "source": [
    "## Prueba de cordura al modelo. "
   ]
  },
  {
   "cell_type": "code",
   "execution_count": 11,
   "id": "4f2c3b0e",
   "metadata": {},
   "outputs": [
    {
     "name": "stdout",
     "output_type": "stream",
     "text": [
      "Exactitud: 0.6842923794712286\n"
     ]
    }
   ],
   "source": [
    "# Creamos el modelo de cordura con DummyClassifier\n",
    "dummy_df = DummyClassifier(strategy=\"most_frequent\")  \n",
    "#Entrenamos el modelo \n",
    "dummy_df.fit(features_train, target_train) \n",
    "\n",
    "dummy_predictions = dummy_df.predict(features_test) \n",
    "\n",
    "print('Exactitud:', accuracy(target_test.values, dummy_predictions))"
   ]
  },
  {
   "cell_type": "markdown",
   "id": "0700a885",
   "metadata": {},
   "source": [
    "Podemos observar la exactitud del modelo Dummy (68.4%) es menor a la exactitud de nuestro mejor modelo que es 77.9%, nuestro modelo pasa la prueba de cordura"
   ]
  }
 ],
 "metadata": {
  "kernelspec": {
   "display_name": "Python 3",
   "language": "python",
   "name": "python3"
  },
  "language_info": {
   "codemirror_mode": {
    "name": "ipython",
    "version": 3
   },
   "file_extension": ".py",
   "mimetype": "text/x-python",
   "name": "python",
   "nbconvert_exporter": "python",
   "pygments_lexer": "ipython3",
   "version": "3.9.12"
  },
  "toc": {
   "base_numbering": "1",
   "nav_menu": {},
   "number_sections": true,
   "sideBar": true,
   "skip_h1_title": true,
   "title_cell": "Table of Contents",
   "title_sidebar": "Contents",
   "toc_cell": false,
   "toc_position": {
    "height": "calc(100% - 180px)",
    "left": "10px",
    "top": "150px",
    "width": "165px"
   },
   "toc_section_display": true,
   "toc_window_display": false
  },
  "varInspector": {
   "cols": {
    "lenName": 16,
    "lenType": 16,
    "lenVar": 40
   },
   "kernels_config": {
    "python": {
     "delete_cmd_postfix": "",
     "delete_cmd_prefix": "del ",
     "library": "var_list.py",
     "varRefreshCmd": "print(var_dic_list())"
    },
    "r": {
     "delete_cmd_postfix": ") ",
     "delete_cmd_prefix": "rm(",
     "library": "var_list.r",
     "varRefreshCmd": "cat(var_dic_list()) "
    }
   },
   "types_to_exclude": [
    "module",
    "function",
    "builtin_function_or_method",
    "instance",
    "_Feature"
   ],
   "window_display": false
  }
 },
 "nbformat": 4,
 "nbformat_minor": 5
}
